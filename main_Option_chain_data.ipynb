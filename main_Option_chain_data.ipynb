{
 "cells": [
  {
   "cell_type": "markdown",
   "metadata": {},
   "source": [
    "# Python Program for Calculating Call or Put Buying Total"
   ]
  },
  {
   "cell_type": "code",
   "execution_count": 1,
   "metadata": {
    "scrolled": false
   },
   "outputs": [
    {
     "name": "stdout",
     "output_type": "stream",
     "text": [
      "Total tables: 1\n",
      "Empty DataFrame\n",
      "Columns: [(CALLS, Unnamed: 0_level_1), (CALLS, OI), (CALLS, Chng in OI), (CALLS, Volume), (CALLS, IV), (CALLS, LTP), (CALLS, Chng), (CALLS, Bid Qty), (CALLS, Bid Price), (CALLS, Ask Price), (CALLS, Ask Qty), (Unnamed: 11_level_0, Strike Price), (PUTS, Bid Qty), (PUTS, Bid Price), (PUTS, Ask Price), (PUTS, Ask Qty), (PUTS, Chng), (PUTS, LTP), (PUTS, IV), (PUTS, Volume), (PUTS, Chng in OI), (PUTS, OI), (PUTS, Unnamed: 22_level_1)]\n",
      "Index: []\n",
      "\n",
      "[0 rows x 23 columns]\n"
     ]
    }
   ],
   "source": [
    "#importing Imp Libraries \n",
    "\n",
    "import pandas as pd\n",
    "from selenium import webdriver\n",
    "from bs4 import BeautifulSoup\n",
    "import datetime, time, math\n",
    "from selenium.webdriver.support.ui import Select\n",
    "start_time = time.time()\n",
    "\n",
    "# Create a session and load the page\n",
    "chromedriver_path = 'chromedriver.exe' # Change it to your own chromedriver path!\n",
    "driver = webdriver.Chrome(executable_path=chromedriver_path)\n",
    "#driver.get('https://www1.nseindia.com/live_market/dynaContent/live_watch/option_chain/optionKeys.jsp')\n",
    "driver.get('https://www.nseindia.com/option-chain')\n",
    "\n",
    "# Wait for the page to fully load\n",
    "driver.implicitly_wait(5)\n",
    "\n",
    "# Parse HTML code and grab tables with Beautiful Soup\n",
    "soup = BeautifulSoup(driver.page_source, 'html.parser')\n",
    "\n",
    "tables = soup.find_all('table')\n",
    "\n",
    "# Read tables with Pandas read_html()\n",
    "dfs = pd.read_html(str(tables))\n",
    "\n",
    "print(f'Total tables: {len(dfs)}')\n",
    "print(dfs[0])"
   ]
  },
  {
   "cell_type": "code",
   "execution_count": 2,
   "metadata": {},
   "outputs": [],
   "source": [
    "table=driver.find_element_by_xpath('//*[@id=\"optionChainTable-indices\"]')\n"
   ]
  },
  {
   "cell_type": "code",
   "execution_count": 3,
   "metadata": {
    "scrolled": true
   },
   "outputs": [
    {
     "data": {
      "text/plain": [
       "'CALLS PUTS\\nOI\\nCHNG IN OI\\nVOLUME\\nIV\\nLTP\\nCHNG\\nBID QTY\\nBID PRICE\\nASK PRICE\\nASK QTY\\nSTRIKE PRICE\\nBID QTY\\nBID PRICE\\nASK PRICE\\nASK QTY\\nCHNG\\nLTP\\nIV\\nVOLUME\\nCHNG IN OI\\nOI\\n9 8 18 - 2,000.00 -92.75 1,050 2,021.35 2,066.00 975 12,800.00 13,425 1.10 1.30 8,400 -0.30 1.15 44.73 13,448 2,251 6,006\\n- - - - - - 2,625 1,940.40 2,109.15 2,625 12,850.00 675 1.35 1.50 600 -18.45 1.35 44.45 652 21 21\\n- - - - - - 2,700 1,897.30 2,025.25 75 12,900.00 975 1.25 1.40 6,450 -0.25 1.30 43.20 3,968 638 1,043\\n- - - - - - 2,625 1,842.35 2,007.20 2,625 12,950.00 975 1.15 1.70 150 -24.35 1.65 43.29 66 21 21\\n68 - 7 - 1,841.15 -123.85 1,500 1,841.10 1,854.55 150 13,000.00 75 1.65 1.75 750 0.05 1.75 42.50 31,143 7,088 14,735\\n- - - - - - 2,700 1,748.25 1,886.45 75 13,050.00 75 1.35 2.25 75 -0.35 1.80 41.55 130 41 77\\n- - 2 - 1,751.50 160.00 75 1,720.70 1,793.60 2,625 13,100.00 2,700 1.80 1.95 375 - 1.95 40.85 6,927 1,705 2,312\\n- - - - - - 2,700 1,649.50 1,769.05 75 13,150.00 75 1.45 2.20 150 -0.05 2.05 40.00 253 48 96\\n12 12 12 - 1,615.00 -46.95 2,625 1,598.95 1,682.75 2,625 13,200.00 37,350 2.00 2.10 375 -0.05 2.05 38.90 8,822 1,626 3,533\\n- - - - - - 2,700 1,540.10 1,663.50 75 13,250.00 75 1.55 2.30 75 -0.90 1.50 36.40 1,541 144 203\\n1 1 2 - 1,518.25 -61.30 75 1,525.15 1,581.65 2,625 13,300.00 75 2.15 2.40 525 -0.05 2.35 37.34 10,189 177 3,386\\n- - - - - - 2,700 1,441.55 1,563.10 75 13,350.00 300 2.50 3.50 75 -0.45 2.25 36.03 3,905 147 207\\n1 -7 15 - 1,444.65 -39.10 75 1,444.75 1,456.55 1,800 13,400.00 1,500 2.15 2.95 75 -0.75 2.15 34.72 12,880 1,712 3,984\\n- - - - - - 75 1,339.15 1,489.30 75 13,450.00 600 2.15 3.00 225 -0.70 2.60 34.46 1,083 147 275\\n56 4 18 - 1,326.60 -58.40 75 1,333.35 1,353.95 450 13,500.00 75 2.95 3.10 2,475 -0.65 3.00 33.99 51,424 8,366 28,096\\n1 1 2 - 1,270.75 -369.50 75 1,239.80 1,364.65 75 13,550.00 75 2.80 3.30 450 -0.85 3.25 33.22 1,533 162 354\\n6 5 9 - 1,252.10 -102.90 75 1,227.45 1,267.90 150 13,600.00 5,250 3.45 3.55 2,925 -0.85 3.55 32.48 20,228 3,301 5,929\\n1 1 7 - 1,186.05 -586.90 375 1,172.95 1,224.10 300 13,650.00 5,400 3.50 4.30 75 -1.45 3.55 31.32 3,213 349 587\\n11 2 27 - 1,153.25 -131.75 75 1,126.10 1,212.60 75 13,700.00 225 4.25 4.30 75 -1.45 4.10 30.81 44,175 14,496 19,724\\n- - 2 - 1,070.30 -623.05 75 1,081.90 1,126.75 1,500 13,750.00 75 4.25 4.90 75 -1.80 4.30 29.84 9,731 2,494 2,961\\n9 5 7 - 1,050.00 -142.00 75 1,047.00 1,073.70 1,500 13,800.00 75 4.80 5.10 75 -0.10 6.85 30.92 51,436 5,775 10,792\\n- - - - - - 300 990.95 1,039.55 1,500 13,850.00 89,100 4.15 5.40 75 -2.40 5.15 28.26 7,435 501 1,199\\n17 6 8 - 923.85 -150.55 150 930.55 976.80 1,500 13,900.00 75 5.75 6.10 525 -2.70 5.90 27.66 53,837 1,949 8,710\\n2 1 2 32.86 925.55 110.35 300 876.50 942.25 1,500 13,950.00 75 6.20 6.65 150 -3.15 6.50 26.87 12,357 238 2,163\\n254 -45 161 - 855.15 -40.95 75 827.10 861.95 1,500 14,000.00 375 7.20 7.40 150 -4.10 7.20 26.08 1,19,549 4,083 25,159\\n10 7 7 - 754.35 -68.40 1,500 802.50 808.85 75 14,050.00 225 8.00 8.55 75 -4.80 8.10 25.35 14,556 896 3,780\\n13 2 14 - 756.15 -36.65 75 735.35 761.90 1,500 14,100.00 75 9.60 9.70 75 -5.15 9.55 24.83 63,745 2,936 9,396\\n5 - 3 - 665.90 -112.90 2,625 643.95 772.10 1,500 14,150.00 75 10.85 13.50 750 -4.15 13.45 25.27 16,493 843 1,473\\n106 22 97 18.33 661.65 -41.90 75 654.65 662.55 150 14,200.00 900 12.90 13.45 150 -6.45 12.90 23.61 1,06,239 11,787 24,150\\n40 - 25 17.98 612.85 -110.45 75 560.65 639.90 75 14,250.00 75 14.75 15.20 225 -7.35 15.10 23.02 31,497 2,964 4,675\\n154 -21 202 18.07 565.20 -47.20 75 563.60 569.00 150 14,300.00 150 18.00 18.15 150 -8.25 17.65 22.41 1,15,978 6,863 15,886\\n51 - 13 19.66 522.40 -37.60 2,625 452.80 549.75 1,125 14,350.00 2,550 21.25 21.45 750 -9.25 21.25 21.96 32,007 2,796 4,171\\n459 -640 1,799 18.76 474.30 -43.85 150 473.45 477.75 150 14,400.00 75 25.80 25.90 975 -9.45 25.55 21.50 1,26,805 5,950 14,158\\n100 -27 140 18.54 429.10 -18.65 6,150 356.25 459.60 75 14,450.00 150 30.65 31.55 750 -10.05 31.00 21.10 42,803 1,115 2,308\\n2,903 925 5,548 18.41 385.50 -45.95 150 383.95 388.65 75 14,500.00 525 37.40 37.50 1,125 -10.80 37.40 20.68 2,94,790 10,907 27,926\\n171 48 276 18.58 345.00 -51.25 75 277.50 369.40 525 14,550.00 75 44.55 45.50 900 -8.85 45.50 20.34 1,05,454 3,302 5,015\\n2,880 818 10,273 17.98 302.25 -46.70 1,650 300.00 305.00 150 14,600.00 75 53.90 54.20 1,050 -10.05 54.15 19.84 3,44,190 9,265 20,865\\n384 128 1,520 18.10 265.55 -46.10 75 260.00 266.55 75 14,650.00 75 62.85 64.95 750 -13.20 63.05 19.12 1,16,549 2,021 3,735\\n3,669 787 32,500 17.35 225.50 -44.85 75 224.15 226.00 150 14,700.00 150 76.65 76.90 675 -12.60 76.90 18.88 3,82,372 5,445 16,674\\n1,270 898 26,747 17.44 193.50 -45.15 75 192.00 193.95 75 14,750.00 75 91.00 92.80 75 -11.55 92.75 18.60 1,38,651 2,976 5,309\\n13,409 6,069 2,45,999 16.86 159.45 -41.50 1,050 159.10 160.00 900 14,800.00 675 110.00 110.45 450 -10.75 110.45 18.23 5,47,091 12,255 25,007\\n7,595 5,580 2,06,036 16.52 130.00 -45.70 3,900 130.00 132.20 150 14,850.00 75 130.05 131.70 2,325 -10.35 130.20 17.77 2,25,738 4,194 6,345\\n26,090 9,023 5,37,058 16.16 103.50 -42.25 75 103.00 104.35 450 14,900.00 75 153.70 154.95 825 -8.40 153.70 17.42 3,47,883 -3,582 11,400\\n7,702 3,161 1,68,396 16.00 81.80 -38.35 825 81.05 82.00 375 14,950.00 75 178.45 184.50 75 -5.65 183.35 17.50 49,391 88 1,754\\n43,074 16,350 5,98,233 15.65 62.00 -34.90 1,725 62.00 63.00 7,350 15,000.00 150 212.00 214.00 975 -0.80 213.95 17.31 1,21,547 -2,790 5,704\\n7,891 5,723 1,59,911 15.37 45.90 -31.30 75 45.50 46.00 75 15,050.00 150 243.65 248.00 75 -4.10 243.55 16.52 6,919 271 492\\n26,125 11,889 3,83,637 15.10 33.00 -27.00 5,925 33.00 33.15 75 15,100.00 75 282.95 283.85 975 6.80 282.60 16.75 13,877 7 1,442\\n8,114 5,542 1,42,571 14.92 23.30 -23.25 975 23.00 23.40 375 15,150.00 5,325 315.10 325.95 375 8.50 321.60 16.59 850 8 279\\n32,979 10,535 3,06,121 14.72 15.85 -18.80 1,125 15.50 15.85 1,350 15,200.00 3,225 362.35 368.60 375 19.90 368.00 17.57 3,687 -41 843\\n13,547 7,330 1,11,775 14.40 10.05 -15.15 75 10.10 11.00 3,750 15,250.00 75 390.15 439.25 75 -0.50 408.70 16.97 157 -1 62\\n31,058 11,148 2,22,452 14.55 7.05 -11.55 225 7.05 7.35 75 15,300.00 150 455.25 459.65 75 24.15 457.65 18.19 856 -33 388\\n7,705 3,399 63,369 14.78 5.05 -8.05 75 4.85 5.10 2,475 15,350.00 75 495.35 542.60 750 17.65 505.00 18.84 84 6 9\\n22,173 10,859 1,52,378 15.16 3.80 -5.80 150 3.70 3.85 75 15,400.00 150 540.85 556.20 375 32.40 550.95 18.80 395 58 129\\n3,063 1,056 24,650 15.94 3.35 -3.60 75 2.85 4.65 75 15,450.00 75 600.65 641.70 1,125 -78.10 610.95 23.55 8 3 4\\n43,568 17,028 1,87,449 16.25 2.50 -2.85 1,725 2.45 2.50 3,225 15,500.00 75 650.20 656.35 1,125 23.55 654.30 22.76 1,103 70 329\\n1,841 651 10,911 16.54 1.85 -2.30 1,350 1.85 2.45 75 15,550.00 75 692.10 755.30 1,500 -35.35 704.25 24.08 23 9 10\\n21,042 6,378 1,02,663 17.54 1.85 -1.35 5,400 1.80 1.85 3,750 15,600.00 75 742.45 792.15 75 31.55 750.05 23.61 4 - 2\\n725 168 4,264 18.38 1.75 -0.90 4,200 1.35 1.70 1,050 15,650.00 300 796.65 845.85 1,500 -65.50 813.75 30.08 2 1 2\\n17,877 -1,121 73,890 18.78 1.40 -0.85 5,400 1.40 1.50 4,800 15,700.00 150 828.15 890.90 75 39.05 851.20 26.67 4 - 13\\n818 532 3,889 19.71 1.40 -0.65 75 1.45 2.15 2,025 15,750.00 300 887.55 955.30 1,500 -70.70 904.55 29.42 2 1 2\\n14,977 7,014 58,729 20.35 1.25 -0.65 7,350 1.20 1.30 11,475 15,800.00 75 931.65 992.15 75 125.35 950.35 28.72 2 - 2\\n78 78 1,856 20.93 1.10 -485.65 600 1.10 1.70 1,950 15,850.00 150 978.50 1,049.75 1,500 -25.40 1,035.80 42.07 2 1 1\\n2,203 -352 20,937 21.82 1.10 -0.60 1,650 1.05 1.20 75 15,900.00 75 964.70 1,090.45 75 131.90 1,051.15 31.56 30 18 18\\n102 -56 672 22.70 1.10 -0.65 75 1.05 1.25 75 15,950.00 75 1,077.05 1,155.15 2,625 2.90 1,129.10 43.09 7 1 1\\n22,200 7,260 62,299 23.45 1.05 -0.50 11,850 1.05 1.10 16,725 16,000.00 750 1,146.25 1,153.10 150 56.80 1,159.90 37.98 72 - 49\\n7 7 1,517 23.41 0.75 -419.15 4,650 0.75 2.45 600 16,050.00 2,625 1,108.80 1,282.45 2,625 - - - - - -\\n1,432 534 6,308 24.90 0.95 -0.45 2,400 0.85 1.00 4,425 16,100.00 675 1,246.75 1,264.85 150 21.15 1,248.35 34.64 6 1 1\\n5 4 2,440 25.43 0.85 -1.15 4,650 0.85 1.60 4,800 16,150.00 2,625 1,204.85 1,383.80 2,625 - - - - - -\\n1,515 575 4,844 26.42 0.90 -0.35 1,125 0.90 1.00 1,350 16,200.00 75 1,327.90 1,379.10 1,500 67.75 1,362.75 44.15 16 -6 2\\n13 13 2,653 26.53 0.70 -359.70 1,500 0.70 0.95 225 16,250.00 2,625 1,299.75 1,489.25 2,625 - - - - - -\\n777 733 6,502 28.08 0.90 -0.50 1,350 0.90 1.00 2,325 16,300.00 75 1,355.05 1,511.30 75 - - - - - -\\n27 27 2,977 28.14 0.70 -332.60 1,575 0.65 1.00 825 16,350.00 2,625 1,396.10 1,594.30 2,625 - - - - - -\\n817 706 4,694 29.35 0.80 -0.45 75 0.80 0.95 450 16,400.00 75 1,476.05 1,616.50 2,625 98.75 1,540.00 32.16 31 14 14\\n4 4 6,826 29.51 0.65 -307.85 4,725 0.65 0.95 3,000 16,450.00 2,625 1,491.70 1,699.50 2,625 - - - - - -\\n8,320 2,489 15,148 30.95 0.80 -0.55 1,575 0.80 0.85 675 16,500.00 2,625 1,620.70 1,681.60 1,350 55.10 1,645.15 40.98 18 11 12\\n1 1 2,432 31.31 0.70 -284.05 2,325 0.70 1.00 1,500 16,550.00 2,625 1,606.70 1,756.55 2,625 - - - - - -\\n674 648 2,210 32.09 0.70 -0.55 1,950 0.70 0.80 600 16,600.00 2,625 1,661.60 1,807.80 2,625 - - - - - -\\n2 2 4,584 32.62 0.65 -261.90 4,725 0.65 0.95 3,000 16,650.00 2,625 1,715.00 1,859.80 2,625 - - - - - -\\n2,301 2,186 6,879 33.39 0.65 -0.65 6,525 0.65 0.70 525 16,700.00 2,700 1,763.40 1,906.95 2,625 - - - - - -\\n10 10 10,500 34.15 0.65 -252.50 75 0.65 0.80 150 16,750.00 2,625 1,809.60 1,963.15 2,625 - - - - - -\\n10,151 5,015 31,127 34.63 0.60 -0.55 75 0.65 0.75 4,500 16,800.00 75 1,869.10 2,002.10 75 - - - - - -'"
      ]
     },
     "execution_count": 3,
     "metadata": {},
     "output_type": "execute_result"
    }
   ],
   "source": [
    "table.text"
   ]
  },
  {
   "cell_type": "code",
   "execution_count": 5,
   "metadata": {},
   "outputs": [],
   "source": [
    "#create an empty df\n",
    "df = pd.DataFrame([table.text]) "
   ]
  },
  {
   "cell_type": "code",
   "execution_count": 16,
   "metadata": {},
   "outputs": [
    {
     "name": "stdout",
     "output_type": "stream",
     "text": [
      "<class 'pandas.core.frame.DataFrame'>\n",
      "RangeIndex: 1 entries, 0 to 0\n",
      "Data columns (total 1 columns):\n",
      " #   Column  Non-Null Count  Dtype \n",
      "---  ------  --------------  ----- \n",
      " 0   0       1 non-null      object\n",
      "dtypes: object(1)\n",
      "memory usage: 136.0+ bytes\n"
     ]
    }
   ],
   "source": [
    "df.head()\n",
    "df.info()"
   ]
  },
  {
   "cell_type": "code",
   "execution_count": 24,
   "metadata": {},
   "outputs": [
    {
     "data": {
      "text/html": [
       "<div>\n",
       "<style scoped>\n",
       "    .dataframe tbody tr th:only-of-type {\n",
       "        vertical-align: middle;\n",
       "    }\n",
       "\n",
       "    .dataframe tbody tr th {\n",
       "        vertical-align: top;\n",
       "    }\n",
       "\n",
       "    .dataframe thead th {\n",
       "        text-align: right;\n",
       "    }\n",
       "</style>\n",
       "<table border=\"1\" class=\"dataframe\">\n",
       "  <thead>\n",
       "    <tr style=\"text-align: right;\">\n",
       "      <th></th>\n",
       "      <th>0</th>\n",
       "    </tr>\n",
       "  </thead>\n",
       "  <tbody>\n",
       "    <tr>\n",
       "      <th>0</th>\n",
       "      <td>CALLS PUTS\\nOI\\nCHNG IN OI\\nVOLUME\\nIV\\nLTP\\nC...</td>\n",
       "    </tr>\n",
       "  </tbody>\n",
       "</table>\n",
       "</div>"
      ],
      "text/plain": [
       "                                                   0\n",
       "0  CALLS PUTS\\nOI\\nCHNG IN OI\\nVOLUME\\nIV\\nLTP\\nC..."
      ]
     },
     "execution_count": 24,
     "metadata": {},
     "output_type": "execute_result"
    }
   ],
   "source": [
    "df.reset_index(level=0, drop=True)"
   ]
  },
  {
   "cell_type": "code",
   "execution_count": 32,
   "metadata": {},
   "outputs": [],
   "source": [
    "df=df.dropna(axis=1,thresh=len(df)).reset_index()"
   ]
  },
  {
   "cell_type": "code",
   "execution_count": 33,
   "metadata": {},
   "outputs": [
    {
     "data": {
      "text/html": [
       "<div>\n",
       "<style scoped>\n",
       "    .dataframe tbody tr th:only-of-type {\n",
       "        vertical-align: middle;\n",
       "    }\n",
       "\n",
       "    .dataframe tbody tr th {\n",
       "        vertical-align: top;\n",
       "    }\n",
       "\n",
       "    .dataframe thead th {\n",
       "        text-align: right;\n",
       "    }\n",
       "</style>\n",
       "<table border=\"1\" class=\"dataframe\">\n",
       "  <thead>\n",
       "    <tr style=\"text-align: right;\">\n",
       "      <th></th>\n",
       "      <th>index</th>\n",
       "      <th>0</th>\n",
       "    </tr>\n",
       "  </thead>\n",
       "  <tbody>\n",
       "    <tr>\n",
       "      <th>0</th>\n",
       "      <td>0</td>\n",
       "      <td>CALLS PUTS\\nOI\\nCHNG IN OI\\nVOLUME\\nIV\\nLTP\\nC...</td>\n",
       "    </tr>\n",
       "  </tbody>\n",
       "</table>\n",
       "</div>"
      ],
      "text/plain": [
       "   index                                                  0\n",
       "0      0  CALLS PUTS\\nOI\\nCHNG IN OI\\nVOLUME\\nIV\\nLTP\\nC..."
      ]
     },
     "execution_count": 33,
     "metadata": {},
     "output_type": "execute_result"
    }
   ],
   "source": [
    "df"
   ]
  },
  {
   "cell_type": "code",
   "execution_count": 29,
   "metadata": {
    "scrolled": true
   },
   "outputs": [
    {
     "ename": "ValueError",
     "evalue": "Cannot remove 1 levels from an index with 1 levels: at least one level must be left.",
     "output_type": "error",
     "traceback": [
      "\u001b[1;31m---------------------------------------------------------------------------\u001b[0m",
      "\u001b[1;31mValueError\u001b[0m                                Traceback (most recent call last)",
      "\u001b[1;32m<ipython-input-29-d2ea9d141db4>\u001b[0m in \u001b[0;36m<module>\u001b[1;34m\u001b[0m\n\u001b[1;32m----> 1\u001b[1;33m \u001b[0mdf\u001b[0m\u001b[1;33m.\u001b[0m\u001b[0mcolumns\u001b[0m \u001b[1;33m=\u001b[0m \u001b[0mdf\u001b[0m\u001b[1;33m.\u001b[0m\u001b[0mcolumns\u001b[0m\u001b[1;33m.\u001b[0m\u001b[0mdroplevel\u001b[0m\u001b[1;33m(\u001b[0m\u001b[1;33m)\u001b[0m\u001b[1;33m\u001b[0m\u001b[1;33m\u001b[0m\u001b[0m\n\u001b[0m",
      "\u001b[1;32mc:\\users\\admin\\appdata\\local\\programs\\python\\python38\\lib\\site-packages\\pandas\\core\\indexes\\base.py\u001b[0m in \u001b[0;36mdroplevel\u001b[1;34m(self, level)\u001b[0m\n\u001b[0;32m   1609\u001b[0m         \u001b[0mlevnums\u001b[0m \u001b[1;33m=\u001b[0m \u001b[0msorted\u001b[0m\u001b[1;33m(\u001b[0m\u001b[0mself\u001b[0m\u001b[1;33m.\u001b[0m\u001b[0m_get_level_number\u001b[0m\u001b[1;33m(\u001b[0m\u001b[0mlev\u001b[0m\u001b[1;33m)\u001b[0m \u001b[1;32mfor\u001b[0m \u001b[0mlev\u001b[0m \u001b[1;32min\u001b[0m \u001b[0mlevel\u001b[0m\u001b[1;33m)\u001b[0m\u001b[1;33m[\u001b[0m\u001b[1;33m:\u001b[0m\u001b[1;33m:\u001b[0m\u001b[1;33m-\u001b[0m\u001b[1;36m1\u001b[0m\u001b[1;33m]\u001b[0m\u001b[1;33m\u001b[0m\u001b[1;33m\u001b[0m\u001b[0m\n\u001b[0;32m   1610\u001b[0m \u001b[1;33m\u001b[0m\u001b[0m\n\u001b[1;32m-> 1611\u001b[1;33m         \u001b[1;32mreturn\u001b[0m \u001b[0mself\u001b[0m\u001b[1;33m.\u001b[0m\u001b[0m_drop_level_numbers\u001b[0m\u001b[1;33m(\u001b[0m\u001b[0mlevnums\u001b[0m\u001b[1;33m)\u001b[0m\u001b[1;33m\u001b[0m\u001b[1;33m\u001b[0m\u001b[0m\n\u001b[0m\u001b[0;32m   1612\u001b[0m \u001b[1;33m\u001b[0m\u001b[0m\n\u001b[0;32m   1613\u001b[0m     \u001b[1;32mdef\u001b[0m \u001b[0m_drop_level_numbers\u001b[0m\u001b[1;33m(\u001b[0m\u001b[0mself\u001b[0m\u001b[1;33m,\u001b[0m \u001b[0mlevnums\u001b[0m\u001b[1;33m:\u001b[0m \u001b[0mList\u001b[0m\u001b[1;33m[\u001b[0m\u001b[0mint\u001b[0m\u001b[1;33m]\u001b[0m\u001b[1;33m)\u001b[0m\u001b[1;33m:\u001b[0m\u001b[1;33m\u001b[0m\u001b[1;33m\u001b[0m\u001b[0m\n",
      "\u001b[1;32mc:\\users\\admin\\appdata\\local\\programs\\python\\python38\\lib\\site-packages\\pandas\\core\\indexes\\base.py\u001b[0m in \u001b[0;36m_drop_level_numbers\u001b[1;34m(self, levnums)\u001b[0m\n\u001b[0;32m   1619\u001b[0m             \u001b[1;32mreturn\u001b[0m \u001b[0mself\u001b[0m\u001b[1;33m\u001b[0m\u001b[1;33m\u001b[0m\u001b[0m\n\u001b[0;32m   1620\u001b[0m         \u001b[1;32mif\u001b[0m \u001b[0mlen\u001b[0m\u001b[1;33m(\u001b[0m\u001b[0mlevnums\u001b[0m\u001b[1;33m)\u001b[0m \u001b[1;33m>=\u001b[0m \u001b[0mself\u001b[0m\u001b[1;33m.\u001b[0m\u001b[0mnlevels\u001b[0m\u001b[1;33m:\u001b[0m\u001b[1;33m\u001b[0m\u001b[1;33m\u001b[0m\u001b[0m\n\u001b[1;32m-> 1621\u001b[1;33m             raise ValueError(\n\u001b[0m\u001b[0;32m   1622\u001b[0m                 \u001b[1;34mf\"Cannot remove {len(levnums)} levels from an index with \"\u001b[0m\u001b[1;33m\u001b[0m\u001b[1;33m\u001b[0m\u001b[0m\n\u001b[0;32m   1623\u001b[0m                 \u001b[1;34mf\"{self.nlevels} levels: at least one level must be left.\"\u001b[0m\u001b[1;33m\u001b[0m\u001b[1;33m\u001b[0m\u001b[0m\n",
      "\u001b[1;31mValueError\u001b[0m: Cannot remove 1 levels from an index with 1 levels: at least one level must be left."
     ]
    }
   ],
   "source": [
    "df.columns = df.columns.droplevel()"
   ]
  },
  {
   "cell_type": "code",
   "execution_count": null,
   "metadata": {
    "scrolled": true
   },
   "outputs": [],
   "source": [
    "#saving df into csv\n",
    "#n=str(datetime.datetime.now().strftime('%Y-%m-%d %H-%M-%S'))\n",
    "#name='NSE'+n+'.csv'\n",
    "#df.to_csv(name) "
   ]
  },
  {
   "cell_type": "code",
   "execution_count": 8,
   "metadata": {},
   "outputs": [
    {
     "data": {
      "text/plain": [
       "'NIFTY 14,834.85'"
      ]
     },
     "execution_count": 8,
     "metadata": {},
     "output_type": "execute_result"
    }
   ],
   "source": [
    "#getting strick price from web page\n",
    "strick_price = driver.find_element_by_xpath('//*[@id=\"equity_underlyingVal\"]')\n",
    "strick_price.text"
   ]
  },
  {
   "cell_type": "code",
   "execution_count": 11,
   "metadata": {},
   "outputs": [
    {
     "name": "stdout",
     "output_type": "stream",
     "text": [
      "<class 'str'>\n",
      "14834\n"
     ]
    }
   ],
   "source": [
    "LTP=(strick_price.text[6:])\n",
    "print(type(LTP))\n",
    "LTP.strip()\n",
    "LTP = LTP.replace(',', '')\n",
    "LTP=int(float(LTP))\n",
    "print(LTP)"
   ]
  },
  {
   "cell_type": "code",
   "execution_count": 12,
   "metadata": {},
   "outputs": [
    {
     "name": "stdout",
     "output_type": "stream",
     "text": [
      "First 3 digit 148\n",
      "Last:  3\n",
      "14850\n"
     ]
    }
   ],
   "source": [
    "#logic for strick price conversion of multiple of 150 -50\n",
    "f3digit=LTP//100\n",
    "print(\"First 3 digit\",f3digit)\n",
    "\n",
    "num=LTP//10\n",
    "last=num%10\n",
    "print(\"Last: \",last)\n",
    "if last>=5:\n",
    "    f3digit=(f3digit+1)*100\n",
    "else:\n",
    "    f3digit=(f3digit)*100\n",
    "    f3digit+=50\n",
    "    \n",
    "print(f3digit)"
   ]
  },
  {
   "cell_type": "raw",
   "metadata": {},
   "source": [
    "#whole_table = webdriver.find_element_by_xpath('//*[@id=\"octable\"]')\n",
    "whole_table = webdriver.find_element_by_id('octable')\n",
    "whole_table.text"
   ]
  },
  {
   "cell_type": "raw",
   "metadata": {},
   "source": [
    "#df.head()"
   ]
  },
  {
   "cell_type": "raw",
   "metadata": {},
   "source": [
    "#df.info()"
   ]
  },
  {
   "cell_type": "code",
   "execution_count": null,
   "metadata": {},
   "outputs": [],
   "source": [
    "#drop unneccessary columns from df\n",
    "df.drop(df.columns[[0,1,4,5,6,7,8,9,10,12,13,14,15,16,17,18,19,22]], axis = 1, inplace = True) \n",
    "#df.head() "
   ]
  },
  {
   "cell_type": "code",
   "execution_count": null,
   "metadata": {},
   "outputs": [],
   "source": [
    "#df.columns"
   ]
  },
  {
   "cell_type": "code",
   "execution_count": null,
   "metadata": {},
   "outputs": [],
   "source": [
    "df.columns = df.columns.droplevel() #it drops multilevel indexing"
   ]
  },
  {
   "cell_type": "code",
   "execution_count": null,
   "metadata": {},
   "outputs": [],
   "source": [
    "#df.head()"
   ]
  },
  {
   "cell_type": "code",
   "execution_count": null,
   "metadata": {},
   "outputs": [],
   "source": [
    "#giving proper names to our new columns\n",
    "df.columns = ['Call_Chng_in_OI', 'Call_Volume', 'Strike Price', 'Put_Chng_in_OI', 'Put_OI']"
   ]
  },
  {
   "cell_type": "code",
   "execution_count": null,
   "metadata": {
    "scrolled": true
   },
   "outputs": [],
   "source": [
    " #it gives index of matched column value in int form\n",
    "i=df.loc[df['Strike Price']==f3digit].index.values.astype(int)[0]\n",
    "#i"
   ]
  },
  {
   "cell_type": "code",
   "execution_count": null,
   "metadata": {},
   "outputs": [],
   "source": [
    "start=i-5\n",
    "df2=df.iloc[start:start+11,]"
   ]
  },
  {
   "cell_type": "code",
   "execution_count": null,
   "metadata": {},
   "outputs": [],
   "source": [
    "#df2.columns"
   ]
  },
  {
   "cell_type": "code",
   "execution_count": null,
   "metadata": {},
   "outputs": [],
   "source": [
    "#df2.head()"
   ]
  },
  {
   "cell_type": "code",
   "execution_count": null,
   "metadata": {
    "scrolled": true
   },
   "outputs": [],
   "source": [
    "#df2.info()"
   ]
  },
  {
   "cell_type": "code",
   "execution_count": null,
   "metadata": {},
   "outputs": [],
   "source": [
    "#saving df into csv\n",
    "#n=str(datetime.datetime.now().strftime('%Y-%m-%d %H-%M-%S'))\n",
    "#name='ST_NSE'+n+'.csv'\n",
    "#df2.to_csv(name) "
   ]
  },
  {
   "cell_type": "code",
   "execution_count": null,
   "metadata": {},
   "outputs": [],
   "source": [
    "try:\n",
    "    c_col=(df2['Call_Chng_in_OI'].astype(str).astype(int)).sum()\n",
    "   # print(c_col)\n",
    "    p_col=(df2['Put_Chng_in_OI'].astype(str).astype(int)).sum()\n",
    "  #  print(p_col)\n",
    "except Exception as e:\n",
    "    c_col=0\n",
    "    p_col=0\n",
    "    print('Ecxeption')\n",
    "    "
   ]
  },
  {
   "cell_type": "code",
   "execution_count": null,
   "metadata": {
    "scrolled": true
   },
   "outputs": [],
   "source": [
    "if c_col>=p_col:\n",
    "    signal=\"Buy PE\"\n",
    "    print(\"Buy a PE Call\")\n",
    "else:\n",
    "    signal=\"Buy CE\"\n",
    "    print(\"Buy a CE Call\")"
   ]
  },
  {
   "cell_type": "code",
   "execution_count": null,
   "metadata": {},
   "outputs": [],
   "source": [
    "df4 = pd.DataFrame(columns=['Date_Time', 'Sum_Call_OI', 'Strike_price', \\\n",
    "                            'Sum_Put_OI', 'Difference','Signal'])"
   ]
  },
  {
   "cell_type": "code",
   "execution_count": null,
   "metadata": {},
   "outputs": [],
   "source": [
    "date_time=str(datetime.datetime.now().strftime('%H-%M-%S'))\n",
    "\n",
    "difference = p_col-c_col\n",
    "df4 = df4.append({'Date_Time':date_time,\\\n",
    "                      'Sum_Call_OI': c_col,\\\n",
    "                      'Strike_price':f3digit,\\\n",
    "                      'Sum_Put_OI': p_col,\\\n",
    "                      'Difference': difference,\\\n",
    "                      'Signal':signal},\\\n",
    "                     ignore_index=True)\n",
    "\n"
   ]
  },
  {
   "cell_type": "code",
   "execution_count": null,
   "metadata": {},
   "outputs": [],
   "source": [
    "#saving finaL df4 into csv\n",
    "date_time=str(datetime.datetime.now().strftime('%Y-%m-%d'))\n",
    "name_nifty='NIFTY_OI_NSE'+date_time+'.csv'\n",
    "df4.to_csv(name_nifty) "
   ]
  },
  {
   "cell_type": "code",
   "execution_count": null,
   "metadata": {},
   "outputs": [],
   "source": [
    "driver.close()"
   ]
  },
  {
   "cell_type": "markdown",
   "metadata": {
    "scrolled": true
   },
   "source": [
    "#Save Every points Text File\n",
    "#File Name= Output\n",
    "\n",
    "n=str(datetime.datetime.now().strftime('%Y-%m-%d'))\n",
    "#name='NSE'+n+'.csv'\n",
    "fname='output'+n+'.txt'\n",
    "stltp='\\n'+\"Strick Price LTP: \"+str(LTP)+'\\n'\n",
    "stltp_=\"SP on Data: \"+str(f3digit)+'\\n'\n",
    "CE_PE_DATA=\"CE Data: \"+str(c_col)+\" PE DATA: \"+str(p_col)+'\\n'\n",
    "signal1='Signal:'+signal+'\\n'\n",
    "diff=p_col-c_col\n",
    "diff=str(diff)+'\\n'\n",
    "\n",
    "sec=((time.time() - start_time))\n",
    "time_req=\"Required Seconds for Exe:\" + str(math.trunc(sec))+'\\n'\n",
    "with open(fname,'a') as f:\n",
    "    f.write(datetime.datetime.now().strftime('%H:%M:%S'))\n",
    "    f.write(stltp)\n",
    "    f.write(stltp_)\n",
    "    f.write(CE_PE_DATA)\n",
    "    f.write(signal1)\n",
    "    f.write(diff)\n",
    "    f.write(time_req)\n",
    "    f.write(\"-------------++++++++--------------\\n\")\n",
    "    del signal1\n",
    "print(\"Data Updated Succesfully...!\")\n",
    "print(\"--- %s seconds ---\" % math.trunc(time.time() - start_time))\n",
    "time.sleep(15)\n",
    "driver.close()"
   ]
  },
  {
   "cell_type": "code",
   "execution_count": null,
   "metadata": {},
   "outputs": [],
   "source": []
  },
  {
   "cell_type": "markdown",
   "metadata": {},
   "source": [
    "# SGX Nifty Data"
   ]
  },
  {
   "cell_type": "raw",
   "metadata": {},
   "source": [
    "import pandas as pd\n",
    "from selenium import webdriver\n",
    "from bs4 import BeautifulSoup\n",
    "import datetime\n",
    "\n",
    "# Step 1: Create a session and load the page\n",
    "chromedriver_path = 'chromedriver.exe' # Change this to your own chromedriver path!\n",
    "driver = webdriver.Chrome(executable_path=chromedriver_path)\n",
    "driver.get('https://sgxnifty.org/')\n",
    "\n",
    "# Wait for the page to fully load\n",
    "driver.implicitly_wait(2)\n",
    "\n",
    "# Step 2: Parse HTML code and grab tables with Beautiful Soup\n",
    "soup = BeautifulSoup(driver.page_source, 'lxml')\n",
    "\n",
    "tables = soup.find_all('table')\n",
    "\n",
    "# Step 3: Read tables with Pandas read_html()\n",
    "dfs = pd.read_html(str(tables))\n",
    "\n",
    "#print(f'Total tables: {len(dfs)}')\n",
    "#print(dfs[0])\n",
    "print(dfs[0])\n",
    "print('-------------'*4)\n",
    "print(dfs[1])\n",
    "driver.close()"
   ]
  },
  {
   "cell_type": "markdown",
   "metadata": {},
   "source": [
    "# Bank Nifty Last five days Open Close Data"
   ]
  },
  {
   "cell_type": "raw",
   "metadata": {},
   "source": [
    "import pandas as pd\n",
    "from selenium import webdriver\n",
    "from bs4 import BeautifulSoup\n",
    "import datetime\n",
    "\n",
    "# Step 1: Create a session and load the page\n",
    "chromedriver_path = 'chromedriver.exe' # Change this to your own chromedriver path!\n",
    "driver = webdriver.Chrome(executable_path=chromedriver_path)\n",
    "driver.get('https://www1.nseindia.com/products/content/equities/indices/historical_index_data.htm')\n",
    "\n",
    "# Wait for the page to fully load\n",
    "driver.implicitly_wait(2)\n"
   ]
  },
  {
   "cell_type": "raw",
   "metadata": {},
   "source": [
    "inputElementBankNifty = driver.find_element_by_xpath('//*[@id=\"indexType\"]/optgroup[2]/option[2]').click()\n",
    "driver.close()"
   ]
  },
  {
   "cell_type": "code",
   "execution_count": null,
   "metadata": {},
   "outputs": [],
   "source": [
    "\n",
    "import matplotlib.pyplot as plt\n",
    "\n",
    "%matplotlib inline\n",
    "\n",
    "#df=pd.read_csv(name_nifty)\n",
    "x=df4['Date_Time']\n",
    "y=df4['Difference']\n",
    "plt.plot(x,y,color='blue',marker='D',markersize=6,linestyle=\"dashdot\",label=\"diff\")\n",
    "#plt.plot(x,df['Strike_price'],label=\"ST\")\n",
    "plt.xticks(rotation=80)\n",
    "plt.xlabel(\"Time\")\n",
    "plt.ylabel(\"Difference\")\n",
    "plt.title(\"OI CE & PE Live Difference. \")\n",
    "plt.legend(loc=\"best\",shadow=True,fontsize=\"small\")#Adding shadow to legend\n",
    "#plt.savefig('chart.png')"
   ]
  },
  {
   "cell_type": "code",
   "execution_count": null,
   "metadata": {
    "scrolled": true
   },
   "outputs": [],
   "source": [
    "df4.tail()"
   ]
  },
  {
   "cell_type": "code",
   "execution_count": null,
   "metadata": {},
   "outputs": [],
   "source": [
    "ax = plt.gca() # gca stands for 'get current axis'\n",
    " \n",
    "df4.plot(kind='line',x= 'Date_Time',y='Difference',figsize=(18,3),grid=True,ax=ax,rot=45)\n",
    "df4.plot(kind='line',x= 'Date_Time',y='Sum_Call_OI',figsize=(18,3),grid=True,ax=ax,rot=45)\n",
    "df4.plot(kind='line',x= 'Date_Time',y='Sum_Put_OI',figsize=(18,3),grid=True,ax=ax,rot=45)\n",
    "plt.savefig('output.png')"
   ]
  },
  {
   "cell_type": "code",
   "execution_count": null,
   "metadata": {},
   "outputs": [],
   "source": [
    "class Line:\n",
    "    \n",
    "    def __init__(self,coor1,coor2):\n",
    "        self.coor1=coor1\n",
    "        self.coor2=coor2\n",
    "      \n",
    "    \n",
    "    def distance(self):\n",
    "        pass\n",
    "    \n",
    "    def slope(self):\n",
    "        pass\n",
    "# EXAMPLE OUTPUT\n",
    "\n",
    "coordinate1 = (3,2)\n",
    "coordinate2 = (8,10)\n",
    "\n",
    "li = Line(coordinate1,coordinate2)"
   ]
  },
  {
   "cell_type": "code",
   "execution_count": null,
   "metadata": {},
   "outputs": [],
   "source": [
    "def fizzBuzz(n):\n",
    "    if n%3==0 and n%5==0:\n",
    "        print('FizzBuzz')\n",
    "    elif n%3==0:\n",
    "        print('Fizz')\n",
    "    elif n%5==0:\n",
    "        print('Buzz')\n",
    "    else:\n",
    "        print(n)\n",
    "\n",
    "if __name__ == '__main__':\n",
    "    n = int(input().strip())\n",
    "\n",
    "    fizzBuzz(n)"
   ]
  },
  {
   "cell_type": "code",
   "execution_count": null,
   "metadata": {},
   "outputs": [],
   "source": []
  }
 ],
 "metadata": {
  "kernelspec": {
   "display_name": "Python 3",
   "language": "python",
   "name": "python3"
  },
  "language_info": {
   "codemirror_mode": {
    "name": "ipython",
    "version": 3
   },
   "file_extension": ".py",
   "mimetype": "text/x-python",
   "name": "python",
   "nbconvert_exporter": "python",
   "pygments_lexer": "ipython3",
   "version": "3.8.3"
  }
 },
 "nbformat": 4,
 "nbformat_minor": 2
}
